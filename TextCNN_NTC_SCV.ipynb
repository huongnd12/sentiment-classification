{
  "nbformat": 4,
  "nbformat_minor": 0,
  "metadata": {
    "colab": {
      "provenance": [],
      "gpuType": "T4",
      "authorship_tag": "ABX9TyOJ//SqqYImBkqW0APJGI2R",
      "include_colab_link": true
    },
    "kernelspec": {
      "name": "python3",
      "display_name": "Python 3"
    },
    "language_info": {
      "name": "python"
    },
    "accelerator": "GPU"
  },
  "cells": [
    {
      "cell_type": "markdown",
      "metadata": {
        "id": "view-in-github",
        "colab_type": "text"
      },
      "source": [
        "<a href=\"https://colab.research.google.com/github/huongnd12/sentiment-classification/blob/main/TextCNN_NTC_SCV.ipynb\" target=\"_parent\"><img src=\"https://colab.research.google.com/assets/colab-badge.svg\" alt=\"Open In Colab\"/></a>"
      ]
    },
    {
      "cell_type": "markdown",
      "source": [
        "# 1.Load dataset"
      ],
      "metadata": {
        "id": "5XxEzHL3eEBT"
      }
    },
    {
      "cell_type": "code",
      "execution_count": null,
      "metadata": {
        "id": "jNZTgyaRbkTY"
      },
      "outputs": [],
      "source": [
        "!git clone https://github.com/congnghia0609/ntc-scv.git\n",
        "!unzip ./ntc-scv/data/data_test.zip -d ./data\n",
        "!unzip ./ntc-scv/data/data_train.zip -d ./data\n",
        "!rm -rf ./ntc-scv"
      ]
    },
    {
      "cell_type": "code",
      "source": [
        "import os\n",
        "import pandas as pd\n",
        "\n",
        "def load_data_from_path(root_path):\n",
        "  data = []\n",
        "  classes = os.listdir(root_path)\n",
        "  for cls in classes:\n",
        "    file_ls = os.listdir(os.path.join(root_path, cls))\n",
        "    for f_name in file_ls:\n",
        "      f_path = os.path.join(root_path, cls, f_name)\n",
        "      with open(f_path) as f:\n",
        "        lines = f.readlines()\n",
        "        sentence = ''.join(lines)\n",
        "        data.append({\n",
        "            'sentence':sentence,\n",
        "            'label':0 if cls == 'neg' else 1\n",
        "        })\n",
        "  return pd.DataFrame(data)\n"
      ],
      "metadata": {
        "id": "cVPA9fF-epkR"
      },
      "execution_count": null,
      "outputs": []
    },
    {
      "cell_type": "code",
      "source": [
        "data_paths = {'train':'/content/data/data_train/train',\n",
        "              'valid':'/content/data/data_train/test',\n",
        "              'test':'/content/data/data_test/test'}\n",
        "\n",
        "train_data = load_data_from_path(data_paths['train'])\n",
        "valid_data = load_data_from_path(data_paths['valid'])\n",
        "test_data = load_data_from_path(data_paths['test'])"
      ],
      "metadata": {
        "id": "g01kV4SOixZY"
      },
      "execution_count": null,
      "outputs": []
    },
    {
      "cell_type": "markdown",
      "source": [
        "# 2.Preprocessing"
      ],
      "metadata": {
        "id": "m_QLArzgj2sL"
      }
    },
    {
      "cell_type": "markdown",
      "source": [
        "## 2.1.Language Detection"
      ],
      "metadata": {
        "id": "vfZ9v8bRj6h9"
      }
    },
    {
      "cell_type": "code",
      "source": [
        "!pip install langid"
      ],
      "metadata": {
        "colab": {
          "base_uri": "https://localhost:8080/"
        },
        "id": "tQJ--gWtjz7s",
        "outputId": "8aae3e6a-19aa-4108-bdec-c248970dcd80"
      },
      "execution_count": null,
      "outputs": [
        {
          "output_type": "stream",
          "name": "stdout",
          "text": [
            "Collecting langid\n",
            "  Downloading langid-1.1.6.tar.gz (1.9 MB)\n",
            "\u001b[2K     \u001b[90m━━━━━━━━━━━━━━━━━━━━━━━━━━━━━━━━━━━━━━━━\u001b[0m \u001b[32m1.9/1.9 MB\u001b[0m \u001b[31m11.3 MB/s\u001b[0m eta \u001b[36m0:00:00\u001b[0m\n",
            "\u001b[?25h  Preparing metadata (setup.py) ... \u001b[?25l\u001b[?25hdone\n",
            "Requirement already satisfied: numpy in /usr/local/lib/python3.10/dist-packages (from langid) (1.23.5)\n",
            "Building wheels for collected packages: langid\n",
            "  Building wheel for langid (setup.py) ... \u001b[?25l\u001b[?25hdone\n",
            "  Created wheel for langid: filename=langid-1.1.6-py3-none-any.whl size=1941172 sha256=c06a40d4a7eefe0ab8dc3fce89a4a65c3b742a956058b9cb5520a69d959685be\n",
            "  Stored in directory: /root/.cache/pip/wheels/23/c8/c6/eed80894918490a175677414d40bd7c851413bbe03d4856c3c\n",
            "Successfully built langid\n",
            "Installing collected packages: langid\n",
            "Successfully installed langid-1.1.6\n"
          ]
        }
      ]
    },
    {
      "cell_type": "code",
      "source": [
        "from langid.langid import LanguageIdentifier, model\n",
        "\n",
        "def identify_vi(data):\n",
        "  not_vi_idx = set()\n",
        "  threshold = 0.9\n",
        "  identifier = LanguageIdentifier.from_modelstring(model, norm_probs=True)\n",
        "  for idx, row in data.iterrows():\n",
        "    lang_result = identifier.classify(row['sentence'])\n",
        "    if lang_result[0] != 'vi' or (lang_result[0] == 'vi' and lang_result[1] < threshold):\n",
        "      not_vi_idx.add(idx)\n",
        "  not_vi_df = data[data.index.isin(not_vi_idx)]\n",
        "  vi_df = data[~data.index.isin(not_vi_idx)]\n",
        "  return vi_df, not_vi_df"
      ],
      "metadata": {
        "id": "DdlGUhClkIe8"
      },
      "execution_count": null,
      "outputs": []
    },
    {
      "cell_type": "code",
      "source": [
        "vi_train, not_vi_train = identify_vi(train_data)\n",
        "vi_valid, not_vi_valid = identify_vi(valid_data)\n",
        "vi_test, not_vi_test = identify_vi(test_data)"
      ],
      "metadata": {
        "id": "WHpOxztsnAQK"
      },
      "execution_count": null,
      "outputs": []
    },
    {
      "cell_type": "markdown",
      "source": [
        "## 2.2.Text Normalization"
      ],
      "metadata": {
        "id": "-JzTAaJroqrY"
      }
    },
    {
      "cell_type": "code",
      "source": [
        "import re\n",
        "from string import punctuation, digits\n",
        "import warnings\n",
        "warnings.filterwarnings('ignore')"
      ],
      "metadata": {
        "id": "8NAI4L59nsW6"
      },
      "execution_count": null,
      "outputs": []
    },
    {
      "cell_type": "code",
      "source": [
        "def text_normalize(text):\n",
        "  # URL removal\n",
        "  url_pattern1 = re.compile(r\"https?://\\S*\")\n",
        "  url_pattern2 = re.compile(r\"www.\\S*\")\n",
        "\n",
        "  text = re.sub(url_pattern1, '', text)\n",
        "  text = re.sub(url_pattern2, '', text)\n",
        "\n",
        "  # HTML tags removal\n",
        "  html_pattern = re.compile(r\"<[^<>]+>\")\n",
        "  text = re.sub(html_pattern, '', text)\n",
        "\n",
        "  # Punctuations and digits removal\n",
        "  spec_char = punctuation + digits\n",
        "  for char in spec_char:\n",
        "    if char in text:\n",
        "      text = text.replace(char, '')\n",
        "\n",
        "  # Emojis and Emoticons removal\n",
        "  emoj = re.compile(\"[\"\n",
        "            u\"\\U0001F600-\\U0001F64F\"  # emoticons\n",
        "            u\"\\U0001F300-\\U0001F5FF\"  # symbols & pictographs\n",
        "            u\"\\U0001F680-\\U0001F6FF\"  # transport & map symbols\n",
        "            u\"\\U0001F1E0-\\U0001F1FF\"  # flags (iOS)\n",
        "            u\"\\U00002500-\\U00002BEF\"  # chinese char\n",
        "            u\"\\U00002702-\\U000027B0\"\n",
        "            u\"\\U000024C2-\\U0001F251\"\n",
        "            u\"\\U0001f926-\\U0001f937\"\n",
        "            u\"\\U00010000-\\U0010ffff\"\n",
        "            u\"\\u2640-\\u2642\"\n",
        "            u\"\\u2600-\\u2B55\"\n",
        "            u\"\\u200d\"\n",
        "            u\"\\u23cf\"\n",
        "            u\"\\u23e9\"\n",
        "            u\"\\u231a\"\n",
        "            u\"\\ufe0f\"  # dingbats\n",
        "            u\"\\u3030\"\n",
        "                          \"]+\", flags=re.UNICODE)\n",
        "  text = re.sub(emoj, '', text)\n",
        "\n",
        "  # Lowercasing\n",
        "  text = text.lower()\n",
        "\n",
        "  # Whitespace normalization\n",
        "  words = text.split()\n",
        "  text = ' '.join(words)\n",
        "\n",
        "  return text"
      ],
      "metadata": {
        "id": "DLMwcZn3o5PV"
      },
      "execution_count": null,
      "outputs": []
    },
    {
      "cell_type": "code",
      "source": [
        "vi_train['preprocessed_sentence'] = vi_train['sentence'].map(text_normalize)\n",
        "vi_valid['preprocessed_sentence'] = vi_valid['sentence'].map(text_normalize)\n",
        "vi_test['preprocessed_sentence'] = vi_test['sentence'].map(text_normalize)"
      ],
      "metadata": {
        "id": "YWczUtuTt39e"
      },
      "execution_count": null,
      "outputs": []
    },
    {
      "cell_type": "code",
      "source": [
        "vi_train['length'] = vi_train['preprocessed_sentence'].map(lambda x: len(x.split()))\n",
        "vi_valid['length'] = vi_valid['preprocessed_sentence'].map(lambda x: len(x.split()))\n",
        "vi_test['length'] = vi_test['preprocessed_sentence'].map(lambda x: len(x.split()))"
      ],
      "metadata": {
        "id": "06tHG73Z6RI9"
      },
      "execution_count": null,
      "outputs": []
    },
    {
      "cell_type": "code",
      "source": [
        "import matplotlib.pyplot as plt\n",
        "\n",
        "datasets = {'train':vi_train,\n",
        "            'valid':vi_valid,\n",
        "            'test':vi_test}\n",
        "fig = plt.figure(figsize=(10,4), layout='constrained')\n",
        "i = 1\n",
        "for name, df in datasets.items():\n",
        "  plt.subplot(1, 3, i)\n",
        "  plt.hist(df[df['length'] <= 600]['length'])\n",
        "  plt.title(name)\n",
        "  i += 1\n",
        "fig.suptitle('Sentence Length Distribution')\n",
        "plt.show()"
      ],
      "metadata": {
        "colab": {
          "base_uri": "https://localhost:8080/",
          "height": 428
        },
        "id": "RvLnVguS5QHN",
        "outputId": "d2632504-1402-4bfd-8cc6-9bc5118e05cb"
      },
      "execution_count": null,
      "outputs": [
        {
          "output_type": "display_data",
          "data": {
            "text/plain": [
              "<Figure size 1000x400 with 3 Axes>"
            ],
            "image/png": "[encoded data removed]"
          },
          "metadata": {}
        }
      ]
    },
    {
      "cell_type": "markdown",
      "source": [
        "# 3.Vectorization"
      ],
      "metadata": {
        "id": "LbWX69F2u_n1"
      }
    },
    {
      "cell_type": "code",
      "source": [
        "!pip install -q torchtext==0.16.0"
      ],
      "metadata": {
        "id": "2Kr7hjppuXIN"
      },
      "execution_count": null,
      "outputs": []
    },
    {
      "cell_type": "code",
      "source": [
        "from torchtext.data.utils import get_tokenizer\n",
        "tokenizer = get_tokenizer('basic_english')\n",
        "\n",
        "# Create iter dataset\n",
        "def yield_tokens(sentences, tokenizer):\n",
        "  for sen in sentences:\n",
        "    yield tokenizer(sen)\n",
        "\n",
        "# Build vocab\n",
        "from torchtext.vocab import build_vocab_from_iterator\n",
        "vocab_size = 10000\n",
        "vocabulary = build_vocab_from_iterator(yield_tokens(vi_train['preprocessed_sentence'], tokenizer),\n",
        "                                       max_tokens=vocab_size,\n",
        "                                       specials=['<pad>','<unk>'])\n",
        "\n",
        "vocabulary.set_default_index(vocabulary['<unk>'])\n",
        "\n",
        "# Convert iter to torchtext dataset\n",
        "from torchtext.data.functional import to_map_style_dataset\n",
        "def prepare_dataset(df):\n",
        "  for idx, row in df.iterrows():\n",
        "    sentence = row['preprocessed_sentence']\n",
        "    encoded_sentence = vocabulary(tokenizer(sentence))\n",
        "    label = row['label']\n",
        "    yield encoded_sentence, label\n",
        "\n",
        "train_dataset = prepare_dataset(vi_train)\n",
        "train_dataset = to_map_style_dataset(train_dataset)\n",
        "\n",
        "valid_dataset = prepare_dataset(vi_valid)\n",
        "valid_dataset = to_map_style_dataset(valid_dataset)\n",
        "\n",
        "test_dataset = prepare_dataset(vi_test)\n",
        "test_dataset = to_map_style_dataset(test_dataset)"
      ],
      "metadata": {
        "id": "FyrZS8KexJbz"
      },
      "execution_count": null,
      "outputs": []
    },
    {
      "cell_type": "code",
      "source": [],
      "metadata": {
        "id": "c8KkpB_95qpK"
      },
      "execution_count": null,
      "outputs": []
    },
    {
      "cell_type": "code",
      "source": [
        "import torch\n",
        "from torch.utils.data import DataLoader\n",
        "from torch.nn.utils.rnn import pad_sequence\n",
        "\n",
        "# Create dataloader\n",
        "def collate_batch(batch):\n",
        "  encoded_sentences, labels = [], []\n",
        "  for encoded_sentence, label in batch:\n",
        "    labels.append(label)\n",
        "    encoded_sentences.append(torch.tensor(encoded_sentence, dtype=torch.int64))\n",
        "  labels = torch.tensor(labels, dtype=torch.int64)\n",
        "  encoded_sentences = pad_sequence(encoded_sentences,\n",
        "                                   padding_value=0)\n",
        "  return encoded_sentences, labels\n",
        "\n",
        "batch_size = 128\n",
        "train_loader = DataLoader(train_dataset,\n",
        "                          batch_size=batch_size,\n",
        "                          shuffle=True,\n",
        "                          collate_fn=collate_batch)\n",
        "valid_loader = DataLoader(valid_dataset,\n",
        "                          batch_size=batch_size,\n",
        "                          collate_fn=collate_batch)\n",
        "test_loader = DataLoader(test_dataset,\n",
        "                         batch_size=batch_size,\n",
        "                         collate_fn=collate_batch)"
      ],
      "metadata": {
        "id": "8pHBlvVT2F3U"
      },
      "execution_count": null,
      "outputs": []
    },
    {
      "cell_type": "code",
      "source": [
        "next(iter(train_loader))[0].shape"
      ],
      "metadata": {
        "colab": {
          "base_uri": "https://localhost:8080/"
        },
        "id": "l5sfPILB5tY_",
        "outputId": "7d12f51b-a3bc-442c-cab3-9949e704faba"
      },
      "execution_count": null,
      "outputs": [
        {
          "output_type": "execute_result",
          "data": {
            "text/plain": [
              "torch.Size([1333, 128])"
            ]
          },
          "metadata": {},
          "execution_count": 26
        }
      ]
    },
    {
      "cell_type": "markdown",
      "source": [
        "# 4.Modelling (TextCNN)"
      ],
      "metadata": {
        "id": "afK5uAfGEmMR"
      }
    },
    {
      "cell_type": "code",
      "source": [
        "from torch import nn\n",
        "import torch.nn.functional as F"
      ],
      "metadata": {
        "id": "zPGmpyF8tqFB"
      },
      "execution_count": null,
      "outputs": []
    },
    {
      "cell_type": "code",
      "source": [
        "class TextCNN(nn.Module):\n",
        "  def __init__(self, kernel_sizes, num_filters, num_classes, embedding_dims, vocab_size):\n",
        "    super(TextCNN, self).__init__()\n",
        "    self.kernel_sizes = kernel_sizes\n",
        "    self.num_filters = num_filters\n",
        "    self.num_classes = num_classes\n",
        "    self.embedding_dims = embedding_dims\n",
        "    self.vocab_size = vocab_size\n",
        "\n",
        "    self.embedding = nn.Embedding(num_embeddings=vocab_size,\n",
        "                                  embedding_dim=embedding_dims,\n",
        "                                  padding_idx=0)\n",
        "    self.conv = nn.ModuleList([nn.Conv1d(in_channels=embedding_dims,\n",
        "                                         out_channels=num_filters,\n",
        "                                         kernel_size=k,\n",
        "                                         stride=1) for k in kernel_sizes])\n",
        "    self.fc = nn.Linear(len(kernel_sizes) * num_filters, num_classes)\n",
        "\n",
        "  def forward(self, x):\n",
        "    # x.shape = (batch_vocab_size, batch_size): each column represents a vector feature\n",
        "    x = self.embedding(x.T).transpose(1, 2)     # input size (batch_size, n_channels, seq length) for Conv1d\n",
        "    x = [conv(x) for conv in self.conv]\n",
        "    x = [F.relu(fm) for fm in x]\n",
        "    x = [F.max_pool1d(input=fm, kernel_size=fm.shape[-1]) for fm in x]\n",
        "    x = torch.concat(x, dim=1).squeeze()\n",
        "    x = self.fc(x)\n",
        "    return x"
      ],
      "metadata": {
        "id": "vaEWNmMpwbt2"
      },
      "execution_count": null,
      "outputs": []
    },
    {
      "cell_type": "markdown",
      "source": [
        "# 5.Training"
      ],
      "metadata": {
        "id": "YHXivFSY1CBA"
      }
    },
    {
      "cell_type": "code",
      "source": [
        "import torch\n",
        "import time\n",
        "device = torch.device('cuda:0' if torch.cuda.is_available() else 'cpu')"
      ],
      "metadata": {
        "id": "57T797T81LEZ"
      },
      "execution_count": null,
      "outputs": []
    },
    {
      "cell_type": "code",
      "source": [
        "def train(model, optimizer, criterion, train_loader, device):\n",
        "  model.train()\n",
        "  ep_loss_train, ep_acc_train = 0, 0\n",
        "  n_batch = len(train_loader)\n",
        "  n_train = len(train_loader.dataset)\n",
        "  for inputs, labels in train_loader:\n",
        "    inputs, labels = inputs.to(device), labels.to(device)\n",
        "\n",
        "    outputs = model(inputs)\n",
        "    loss = criterion(outputs, labels)\n",
        "    ep_loss_train += loss.item()\n",
        "    ep_acc_train += (torch.argmax(outputs, dim=1) == labels).sum().item()\n",
        "\n",
        "    optimizer.zero_grad()\n",
        "    loss.backward()\n",
        "    optimizer.step()\n",
        "  return ep_loss_train/n_batch, ep_acc_train/n_train"
      ],
      "metadata": {
        "id": "lOV1tikvkXOx"
      },
      "execution_count": null,
      "outputs": []
    },
    {
      "cell_type": "code",
      "source": [
        "def evaluate(model, criterion, valid_loader, device):\n",
        "  model.eval()\n",
        "  ep_loss_val, ep_acc_val = 0, 0\n",
        "  n_batch = len(valid_loader)\n",
        "  n_val = len(valid_loader.dataset)\n",
        "  with torch.no_grad():\n",
        "    for inputs, labels in valid_loader:\n",
        "      inputs, labels = inputs.to(device), labels.to(device)\n",
        "      outputs = model(inputs)\n",
        "\n",
        "      ep_loss_val += criterion(outputs, labels).item()\n",
        "      ep_acc_val += (torch.argmax(outputs, dim=1) == labels).sum().item()\n",
        "  return ep_loss_val/n_batch, ep_acc_val/n_val"
      ],
      "metadata": {
        "id": "56Shw5O31HU2"
      },
      "execution_count": null,
      "outputs": []
    },
    {
      "cell_type": "code",
      "source": [
        "# Train\n",
        "n_epochs = 10\n",
        "kernel_sizes = [3, 4, 5]\n",
        "num_filters = 100\n",
        "num_classes = 2\n",
        "embedding_dims = 100\n",
        "vocab_size=10000\n",
        "\n",
        "model = TextCNN(kernel_sizes, num_filters, num_classes, embedding_dims, vocab_size).to(device)\n",
        "criterion = nn.CrossEntropyLoss()\n",
        "optimizer = torch.optim.Adam(model.parameters(),\n",
        "                             lr=0.001)\n",
        "\n",
        "train_loss, train_acc = [], []\n",
        "valid_loss, valid_acc = [], []\n",
        "best_loss_eval = 100\n",
        "for epoch in range(n_epochs):\n",
        "  s_time = time.time()\n",
        "\n",
        "  ep_loss_train, ep_acc_train = train(model, optimizer, criterion, train_loader, device)\n",
        "  train_loss.append(ep_loss_train)\n",
        "  train_acc.append(ep_acc_train)\n",
        "\n",
        "  ep_loss_valid, ep_acc_valid = evaluate(model, criterion, valid_loader, device)\n",
        "  valid_loss.append(ep_loss_valid)\n",
        "  valid_acc.append(ep_acc_valid)\n",
        "\n",
        "  if ep_loss_valid < best_loss_eval:\n",
        "    torch.save(model.state_dict(), '/content/data/textcnn_model.pt')\n",
        "    best_loss_eval = ep_loss_valid\n",
        "  e_time = time.time()\n",
        "\n",
        "  print('-'*60)\n",
        "  print(f'Epoch {epoch:>2d}/{n_epochs}:')\n",
        "  print(f'Time: {e_time - s_time:.2f}s')\n",
        "  print(f'Train Loss: {ep_loss_train:.4f} - Train Accuracy: {ep_acc_train:.4f} - Valid Loss: {ep_loss_valid:.4f} - Valid Accuracy: {ep_acc_valid:.4f}')\n",
        "  print('-'*60)"
      ],
      "metadata": {
        "id": "xap149pR1V0E"
      },
      "execution_count": null,
      "outputs": []
    },
    {
      "cell_type": "code",
      "source": [
        "# Load best model\n",
        "model.load_state_dict(torch.load('/content/data/textcnn_model.pt'))\n",
        "model.eval()"
      ],
      "metadata": {
        "colab": {
          "base_uri": "https://localhost:8080/"
        },
        "id": "i1B0eoiwkXAQ",
        "outputId": "2f91ab7f-2e88-4d7f-da20-a75c159effa5"
      },
      "execution_count": null,
      "outputs": [
        {
          "output_type": "execute_result",
          "data": {
            "text/plain": [
              "TextCNN(\n",
              "  (embedding): Embedding(10000, 100, padding_idx=0)\n",
              "  (conv): ModuleList(\n",
              "    (0): Conv1d(100, 100, kernel_size=(3,), stride=(1,))\n",
              "    (1): Conv1d(100, 100, kernel_size=(4,), stride=(1,))\n",
              "    (2): Conv1d(100, 100, kernel_size=(5,), stride=(1,))\n",
              "  )\n",
              "  (fc): Linear(in_features=300, out_features=2, bias=True)\n",
              ")"
            ]
          },
          "metadata": {},
          "execution_count": 122
        }
      ]
    },
    {
      "cell_type": "code",
      "source": [
        "import seaborn as sns\n",
        "sns.set()\n",
        "fig = plt.figure(figsize=(10,4), layout='constrained')\n",
        "\n",
        "plt.subplot(1,2,1)\n",
        "plt.plot(train_loss, label='Train')\n",
        "plt.plot(valid_loss, color='orange', label='Validation')\n",
        "plt.legend(loc='lower left')\n",
        "plt.xlabel('iteration')\n",
        "plt.ylabel('Loss')\n",
        "\n",
        "plt.subplot(1,2,2)\n",
        "plt.plot(train_acc, label='Train')\n",
        "plt.plot(valid_acc, color='orange', label='Validation')\n",
        "plt.legend(loc='lower right')\n",
        "plt.xlabel('iteration')\n",
        "plt.ylabel('Accuracy')"
      ],
      "metadata": {
        "colab": {
          "base_uri": "https://localhost:8080/",
          "height": 413
        },
        "id": "__Y2kaxd250B",
        "outputId": "b0ee37d4-b0b7-49d6-8a4f-33fb977c280e"
      },
      "execution_count": null,
      "outputs": [
        {
          "output_type": "execute_result",
          "data": {
            "text/plain": [
              "Text(0, 0.5, 'Accuracy')"
            ]
          },
          "metadata": {},
          "execution_count": 124
        },
        {
          "output_type": "display_data",
          "data": {
            "text/plain": [
              "<Figure size 1000x400 with 2 Axes>"
            ],
            "image/png": "[encoded data removed]"
          },
          "metadata": {}
        }
      ]
    },
    {
      "cell_type": "markdown",
      "source": [
        "# 6.Evaluation on Test set"
      ],
      "metadata": {
        "id": "BNja-S653G5Z"
      }
    },
    {
      "cell_type": "code",
      "source": [
        "model = model.to('cpu')\n",
        "test_loss, test_acc = evaluate(model, criterion, test_loader, device='cpu')\n",
        "print(f'Accuracy score on test set: {test_acc*100:.2f}%')"
      ],
      "metadata": {
        "colab": {
          "base_uri": "https://localhost:8080/"
        },
        "id": "jCFvdMrO3Kjr",
        "outputId": "35e491c8-b0f2-42f6-9727-3d11811c428b"
      },
      "execution_count": null,
      "outputs": [
        {
          "output_type": "stream",
          "name": "stdout",
          "text": [
            "Accuracy score on test set: 88.58%\n"
          ]
        }
      ]
    }
  ]
}