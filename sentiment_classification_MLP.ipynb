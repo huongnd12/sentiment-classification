{
  "nbformat": 4,
  "nbformat_minor": 0,
  "metadata": {
    "colab": {
      "provenance": [],
      "gpuType": "T4",
      "authorship_tag": "ABX9TyMnGvAFDeGE4HVDTQ6cIi97",
      "include_colab_link": true
    },
    "kernelspec": {
      "name": "python3",
      "display_name": "Python 3"
    },
    "language_info": {
      "name": "python"
    },
    "accelerator": "GPU"
  },
  "cells": [
    {
      "cell_type": "markdown",
      "metadata": {
        "id": "view-in-github",
        "colab_type": "text"
      },
      "source": [
        "<a href=\"https://colab.research.google.com/github/huongnd12/sentiment-classification/blob/main/sentiment_classification_MLP.ipynb\" target=\"_parent\"><img src=\"https://colab.research.google.com/assets/colab-badge.svg\" alt=\"Open In Colab\"/></a>"
      ]
    },
    {
      "cell_type": "markdown",
      "source": [
        "# 1.Load data"
      ],
      "metadata": {
        "id": "xSghPQ3JfWde"
      }
    },
    {
      "cell_type": "code",
      "execution_count": null,
      "metadata": {
        "id": "zLQcl_6feoeB"
      },
      "outputs": [],
      "source": [
        "# Download training and testing data from Github\n",
        "!git clone https://github.com/congnghia0609/ntc-scv.git\n",
        "!unzip /content/ntc-scv/data/data_test.zip -d /content/data\n",
        "!unzip /content/ntc-scv/data/data_train.zip -d /content/data"
      ]
    },
    {
      "cell_type": "code",
      "source": [
        "# Read data from files\n",
        "import os\n",
        "import pandas as pd\n",
        "import numpy as np\n",
        "import time\n",
        "import torch\n",
        "from torch.utils.data import DataLoader\n",
        "from torch import nn\n",
        "device = torch.device('cuda:0' if torch.cuda.is_available() else 'cpu')\n",
        "\n",
        "def load_data_from_path(root_path):\n",
        "  labels = os.listdir(root_path)\n",
        "  data = []\n",
        "  for cls in labels:\n",
        "    label = 1 if cls == 'pos' else 0\n",
        "    cls_path = os.path.join(root_path, cls)\n",
        "    file_list = os.listdir(cls_path)\n",
        "    for file_name in file_list:\n",
        "      path = os.path.join(cls_path, file_name)\n",
        "      with open(path, 'r', encoding='utf-8') as f:\n",
        "        lines = f.readlines()\n",
        "      sentence = ' '.join(lines)\n",
        "      sub_data = {\n",
        "          'sentence':sentence,\n",
        "          'label':label\n",
        "      }\n",
        "      data.append(sub_data)\n",
        "      result = pd.DataFrame(data)\n",
        "  return result"
      ],
      "metadata": {
        "id": "rqQQBXC7gNjL"
      },
      "execution_count": null,
      "outputs": []
    },
    {
      "cell_type": "code",
      "source": [
        "folder_path = {\n",
        "    'train':'/content/data/data_train/train',\n",
        "    'val':'/content/data/data_train/test',\n",
        "    'test':'/content/data/data_test/test'\n",
        "}\n",
        "train_df = load_data_from_path(folder_path['train'])\n",
        "val_df = load_data_from_path(folder_path['val'])\n",
        "test_df = load_data_from_path(folder_path['test'])"
      ],
      "metadata": {
        "id": "0y3YNqKRNmyY"
      },
      "execution_count": null,
      "outputs": []
    },
    {
      "cell_type": "code",
      "source": [
        "print('Category count:')\n",
        "print('\\n')\n",
        "print('Training set:')\n",
        "print(train_df['label'].value_counts())\n",
        "print('\\n')\n",
        "print('Validation set:')\n",
        "print(val_df['label'].value_counts())\n",
        "print('\\n')\n",
        "print('Testing set:')\n",
        "print(test_df['label'].value_counts())"
      ],
      "metadata": {
        "colab": {
          "base_uri": "https://localhost:8080/"
        },
        "id": "UYVJfbgCQmTq",
        "outputId": "967286a9-e1ee-49d6-a278-557ca1941ddb"
      },
      "execution_count": null,
      "outputs": [
        {
          "output_type": "stream",
          "name": "stdout",
          "text": [
            "Category count:\n",
            "\n",
            "\n",
            "Training set:\n",
            "1    15000\n",
            "0    15000\n",
            "Name: label, dtype: int64\n",
            "\n",
            "\n",
            "Validation set:\n",
            "1    5000\n",
            "0    5000\n",
            "Name: label, dtype: int64\n",
            "\n",
            "\n",
            "Testing set:\n",
            "1    5000\n",
            "0    5000\n",
            "Name: label, dtype: int64\n"
          ]
        }
      ]
    },
    {
      "cell_type": "markdown",
      "source": [
        "# 2.Data Preprocessing"
      ],
      "metadata": {
        "id": "z-9C7yC2SQuO"
      }
    },
    {
      "cell_type": "markdown",
      "source": [
        "## 2.1. Language detection"
      ],
      "metadata": {
        "id": "BuqHiqt0WjwS"
      }
    },
    {
      "cell_type": "markdown",
      "source": [
        "Keep samples in Vietnamese and remove the others"
      ],
      "metadata": {
        "id": "K2S6f2ZNSVw4"
      }
    },
    {
      "cell_type": "code",
      "source": [
        "!pip install langid"
      ],
      "metadata": {
        "id": "Olxuo50iSpFi",
        "colab": {
          "base_uri": "https://localhost:8080/"
        },
        "outputId": "7bb80fcc-519e-4c29-bc38-9056eb5987d1"
      },
      "execution_count": null,
      "outputs": [
        {
          "output_type": "stream",
          "name": "stdout",
          "text": [
            "Collecting langid\n",
            "  Downloading langid-1.1.6.tar.gz (1.9 MB)\n",
            "\u001b[?25l     \u001b[90m━━━━━━━━━━━━━━━━━━━━━━━━━━━━━━━━━━━━━━━━\u001b[0m \u001b[32m0.0/1.9 MB\u001b[0m \u001b[31m?\u001b[0m eta \u001b[36m-:--:--\u001b[0m\r\u001b[2K     \u001b[91m━\u001b[0m\u001b[90m╺\u001b[0m\u001b[90m━━━━━━━━━━━━━━━━━━━━━━━━━━━━━━━━━━━━━━\u001b[0m \u001b[32m0.1/1.9 MB\u001b[0m \u001b[31m1.9 MB/s\u001b[0m eta \u001b[36m0:00:01\u001b[0m\r\u001b[2K     \u001b[91m━━━━━━━━━━━━━━━━━━━━━━━━━━━━━━━━━━━━━\u001b[0m\u001b[90m╺\u001b[0m\u001b[90m━━\u001b[0m \u001b[32m1.8/1.9 MB\u001b[0m \u001b[31m25.9 MB/s\u001b[0m eta \u001b[36m0:00:01\u001b[0m\r\u001b[2K     \u001b[90m━━━━━━━━━━━━━━━━━━━━━━━━━━━━━━━━━━━━━━━━\u001b[0m \u001b[32m1.9/1.9 MB\u001b[0m \u001b[31m22.1 MB/s\u001b[0m eta \u001b[36m0:00:00\u001b[0m\n",
            "\u001b[?25h  Preparing metadata (setup.py) ... \u001b[?25l\u001b[?25hdone\n",
            "Requirement already satisfied: numpy in /usr/local/lib/python3.10/dist-packages (from langid) (1.23.5)\n",
            "Building wheels for collected packages: langid\n",
            "  Building wheel for langid (setup.py) ... \u001b[?25l\u001b[?25hdone\n",
            "  Created wheel for langid: filename=langid-1.1.6-py3-none-any.whl size=1941173 sha256=7006caabd7f2d84e48b125a26898e669de3c143a0d07d4f55008936060dbda05\n",
            "  Stored in directory: /root/.cache/pip/wheels/23/c8/c6/eed80894918490a175677414d40bd7c851413bbe03d4856c3c\n",
            "Successfully built langid\n",
            "Installing collected packages: langid\n",
            "Successfully installed langid-1.1.6\n"
          ]
        }
      ]
    },
    {
      "cell_type": "code",
      "source": [
        "from langid.langid import LanguageIdentifier, model\n",
        "\n",
        "def identify_vn(df):\n",
        "  '''\n",
        "  Return 2 language classified dataframes\n",
        "  '''\n",
        "  identifier = LanguageIdentifier.from_modelstring(model, norm_probs=True)\n",
        "  not_vi_idx = set()\n",
        "  THRESHOLD = 0.9\n",
        "  for idx, row in df.iterrows():\n",
        "    score = identifier.classify(row['sentence'])\n",
        "    if score[0] != 'vi' or (score[0] == 'vi' and score[1] < THRESHOLD):\n",
        "      not_vi_idx.add(idx)\n",
        "  not_vi_df = df[df.index.isin(not_vi_idx)]\n",
        "  vi_df = df[~df.index.isin(not_vi_idx)]\n",
        "  return vi_df, not_vi_df"
      ],
      "metadata": {
        "id": "Q3dlLh4OSfN9"
      },
      "execution_count": null,
      "outputs": []
    },
    {
      "cell_type": "code",
      "source": [
        "train_df_vi, _ = identify_vn(train_df)\n",
        "val_df_vi, _ = identify_vn(val_df)\n",
        "test_df_vi, _ = identify_vn(test_df)"
      ],
      "metadata": {
        "id": "cX_BIYF9mHqP"
      },
      "execution_count": null,
      "outputs": []
    },
    {
      "cell_type": "code",
      "source": [
        "print('Category count of Samples in Vietnamese:')\n",
        "print('\\n')\n",
        "print('Training set:')\n",
        "print(train_df_vi['label'].value_counts())\n",
        "print('\\n')\n",
        "print('Validation set:')\n",
        "print(val_df_vi['label'].value_counts())\n",
        "print('\\n')\n",
        "print('Testing set:')\n",
        "print(test_df_vi['label'].value_counts())"
      ],
      "metadata": {
        "colab": {
          "base_uri": "https://localhost:8080/"
        },
        "id": "OZ9ryLnbnK0u",
        "outputId": "263f5842-0f4d-4220-f421-ec57a5003ec5"
      },
      "execution_count": null,
      "outputs": [
        {
          "output_type": "stream",
          "name": "stdout",
          "text": [
            "Category count of Samples in Vietnamese:\n",
            "\n",
            "\n",
            "Training set:\n",
            "0    14887\n",
            "1    14849\n",
            "Name: label, dtype: int64\n",
            "\n",
            "\n",
            "Validation set:\n",
            "0    4970\n",
            "1    4951\n",
            "Name: label, dtype: int64\n",
            "\n",
            "\n",
            "Testing set:\n",
            "0    4966\n",
            "1    4954\n",
            "Name: label, dtype: int64\n"
          ]
        }
      ]
    },
    {
      "cell_type": "markdown",
      "source": [
        "## 2.2. Text Preprocessing"
      ],
      "metadata": {
        "id": "3PM13G8NWpL4"
      }
    },
    {
      "cell_type": "markdown",
      "source": [
        "- Remove HTML tags, URL\n",
        "- Remove punctuations and numbers\n",
        "- Remove special characters, emojis, emoticons\n",
        "- Normalize whitespace\n",
        "- Lowercase"
      ],
      "metadata": {
        "id": "7Mg5QqudY14d"
      }
    },
    {
      "cell_type": "code",
      "source": [
        "import re\n",
        "import string\n",
        "import warnings\n",
        "warnings.filterwarnings('ignore')"
      ],
      "metadata": {
        "id": "LfPChkPYZtsx"
      },
      "execution_count": null,
      "outputs": []
    },
    {
      "cell_type": "code",
      "source": [
        "def text_preprocessing(text):\n",
        "  # Remove URL\n",
        "  url_pattern = re.compile('https?://\\S+')\n",
        "  text = url_pattern.sub('', text)\n",
        "\n",
        "  # Remove HTML tags\n",
        "  html_pattern = re.compile('<[^<>]+>')\n",
        "  text = html_pattern.sub('', text)\n",
        "\n",
        "  # Remove punctuations and digits\n",
        "  remove_char = list(string.punctuation + string.digits)\n",
        "  for char in remove_char:\n",
        "    if char in text:\n",
        "      text = text.replace(char, '')\n",
        "\n",
        "  # Remove emojis and emoticons\n",
        "  emoj = re.compile(\"[\"\n",
        "          u\"\\U0001F600-\\U0001F64F\"  # emoticons\n",
        "          u\"\\U0001F300-\\U0001F5FF\"  # symbols & pictographs\n",
        "          u\"\\U0001F680-\\U0001F6FF\"  # transport & map symbols\n",
        "          u\"\\U0001F1E0-\\U0001F1FF\"  # flags (iOS)\n",
        "          u\"\\U00002500-\\U00002BEF\"  # chinese char\n",
        "          u\"\\U00002702-\\U000027B0\"\n",
        "          u\"\\U000024C2-\\U0001F251\"\n",
        "          u\"\\U0001f926-\\U0001f937\"\n",
        "          u\"\\U00010000-\\U0010ffff\"\n",
        "          u\"\\u2640-\\u2642\"\n",
        "          u\"\\u2600-\\u2B55\"\n",
        "          u\"\\u200d\"\n",
        "          u\"\\u23cf\"\n",
        "          u\"\\u23e9\"\n",
        "          u\"\\u231a\"\n",
        "          u\"\\ufe0f\"  # dingbats\n",
        "          u\"\\u3030\"\n",
        "                        \"]+\", flags=re.UNICODE)\n",
        "\n",
        "  text = emoj.sub('', text)\n",
        "\n",
        "  # Normalize whitespace\n",
        "  text = ' '.join(text.split())\n",
        "\n",
        "  # Lowercase\n",
        "  text = text.lower()\n",
        "\n",
        "  return text"
      ],
      "metadata": {
        "id": "VhOP0iypan9b"
      },
      "execution_count": null,
      "outputs": []
    },
    {
      "cell_type": "code",
      "source": [
        "train_df_vi['processed_sentence'] = train_df_vi['sentence'].map(text_preprocessing)\n",
        "val_df_vi['processed_sentence'] = val_df_vi['sentence'].map(text_preprocessing)\n",
        "test_df_vi['processed_sentence'] = test_df_vi['sentence'].map(text_preprocessing)"
      ],
      "metadata": {
        "id": "sp9V7KDMkCz1"
      },
      "execution_count": null,
      "outputs": []
    },
    {
      "cell_type": "markdown",
      "source": [
        "# 3.Vectorization"
      ],
      "metadata": {
        "id": "EzS7z7QgsdtJ"
      }
    },
    {
      "cell_type": "code",
      "source": [
        "!pip install -q torchtext==0.16.0"
      ],
      "metadata": {
        "id": "qXlOHVMp2uoL"
      },
      "execution_count": null,
      "outputs": []
    },
    {
      "cell_type": "code",
      "source": [
        "from torchtext.data.utils import get_tokenizer\n",
        "\n",
        "# Word-based tokenizer\n",
        "tokenizer = get_tokenizer('basic_english')\n",
        "\n",
        "# Create iter dataset\n",
        "def yield_tokens(sentences, tokenizer):\n",
        "  for sen in sentences:\n",
        "    yield tokenizer(sen)\n",
        "\n",
        "# Build vocabulary\n",
        "from torchtext.vocab import build_vocab_from_iterator\n",
        "vocab_size = 10000\n",
        "vocabulary = build_vocab_from_iterator(\n",
        "    iterator=yield_tokens(train_df_vi['processed_sentence'], tokenizer),\n",
        "    max_tokens=vocab_size,\n",
        "    specials=[\"<unk>\"]\n",
        ")\n",
        "\n",
        "vocabulary.set_default_index(vocabulary['<unk>'])\n",
        "\n",
        "# Convert iter into torchtext dataset\n",
        "from torchtext.data.functional import to_map_style_dataset\n",
        "def prepare_dataset(df):\n",
        "  for idx, row in df.iterrows():\n",
        "    sentence = row['processed_sentence']\n",
        "    encoded_sentence = vocabulary(tokenizer(sentence))    # vocabulary(tokenizer('I am the best')) -> [62, 5276, 1083, 3065]\n",
        "    label = row['label']\n",
        "    yield encoded_sentence, label\n",
        "\n",
        "training_dataset = prepare_dataset(train_df_vi)\n",
        "training_dataset = to_map_style_dataset(training_dataset)\n",
        "\n",
        "val_dataset = prepare_dataset(val_df_vi)\n",
        "val_dataset = to_map_style_dataset(val_dataset)\n",
        "\n",
        "# test_dataset = prepare_dataset(test_df_vi)\n",
        "# test_dataset = to_map_style_dataset(test_dataset)\n"
      ],
      "metadata": {
        "id": "XdqfC90D23fU"
      },
      "execution_count": null,
      "outputs": []
    },
    {
      "cell_type": "code",
      "source": [
        "def collate_batch(batch):\n",
        "  encoded_sentences, labels, offsets = [], [], [0]\n",
        "  for encoded_sentence, label in batch:\n",
        "    encoded_sentence = torch.tensor(encoded_sentence, dtype=torch.int64)\n",
        "    encoded_sentences.append(encoded_sentence)\n",
        "    labels.append(label)\n",
        "    offsets.append(encoded_sentence.size(0))\n",
        "\n",
        "  encoded_sentences = torch.cat(encoded_sentences)\n",
        "  labels = torch.tensor(labels, dtype=torch.int64)\n",
        "  offsets = torch.tensor(offsets[:-1], dtype=torch.int64).cumsum(dim=0)\n",
        "\n",
        "  return encoded_sentences.to(device), labels.to(device), offsets.to(device)\n",
        "\n",
        "\n",
        "batch_size = 128\n",
        "train_loader = DataLoader(\n",
        "    dataset=training_dataset,\n",
        "    batch_size=batch_size,\n",
        "    shuffle=True,\n",
        "    collate_fn=collate_batch\n",
        ")\n",
        "\n",
        "val_loader = DataLoader(\n",
        "    dataset=val_dataset,\n",
        "    batch_size=batch_size,\n",
        "    collate_fn=collate_batch\n",
        ")\n",
        "\n",
        "# test_loader = DataLoader(\n",
        "#     dataset=test_dataset,\n",
        "#     batch_size=batch_size,\n",
        "#     collate_fn=collate_batch\n",
        "# )"
      ],
      "metadata": {
        "id": "eG_ESl5Vn92B"
      },
      "execution_count": null,
      "outputs": []
    },
    {
      "cell_type": "markdown",
      "source": [
        "# 4.Modeling"
      ],
      "metadata": {
        "id": "CnOq5LjZTFjD"
      }
    },
    {
      "cell_type": "markdown",
      "source": [
        "The model includes 2 layers: EmbeddingBag layer and Linear layer"
      ],
      "metadata": {
        "id": "ENsJVwi-TWWk"
      }
    },
    {
      "cell_type": "code",
      "source": [
        "class TextClassificationModel(nn.Module):\n",
        "  def __init__(self, vocab_size, embed_dim, num_class):\n",
        "    super(TextClassificationModel, self).__init__()\n",
        "    self.embedding = nn.EmbeddingBag(vocab_size, embed_dim, sparse=False)\n",
        "    self.linear = nn.Linear(embed_dim, num_class)\n",
        "    self.init_weights()\n",
        "\n",
        "  def init_weights(self):\n",
        "    init_range = 0.5\n",
        "    self.linear.weight.data.uniform_(-init_range, init_range)\n",
        "    self.linear.bias.data.zero_()\n",
        "    self.embedding.weight.data.uniform_(-init_range, init_range)\n",
        "\n",
        "  def forward(self, sentences, offsets):\n",
        "    embedded_sen = self.embedding(sentences, offsets)\n",
        "    return self.linear(embedded_sen)"
      ],
      "metadata": {
        "id": "Oe6e_qzVTFLk"
      },
      "execution_count": null,
      "outputs": []
    },
    {
      "cell_type": "code",
      "source": [
        "def train(model, optimizer, criterion, data_loader):\n",
        "  model.train()\n",
        "  ep_train_loss, ep_train_acc = 0, 0\n",
        "  N_train = len(data_loader.dataset)\n",
        "\n",
        "  for inputs, labels, offsets in data_loader:\n",
        "    output = model(inputs, offsets)\n",
        "\n",
        "    loss = criterion(output, labels)\n",
        "    ep_train_loss += loss.item()\n",
        "    ep_train_acc += (torch.argmax(output, dim=1) == labels).sum().item()\n",
        "\n",
        "    optimizer.zero_grad()\n",
        "    loss.backward()\n",
        "    nn.utils.clip_grad_norm_(model.parameters(), 0.1)\n",
        "    optimizer.step()\n",
        "\n",
        "  ep_train_loss /= N_train\n",
        "  ep_train_acc /= N_train\n",
        "\n",
        "  return ep_train_loss, ep_train_acc"
      ],
      "metadata": {
        "id": "1kb-4Om0cGtM"
      },
      "execution_count": null,
      "outputs": []
    },
    {
      "cell_type": "code",
      "source": [
        "def evaluate(model, criterion, data_loader):\n",
        "  model.eval()\n",
        "  ep_val_loss, ep_val_acc = 0, 0\n",
        "  N = len(data_loader.dataset)\n",
        "\n",
        "  with torch.no_grad():\n",
        "    for inputs, labels, offsets in data_loader:\n",
        "      output = model(inputs, offsets)\n",
        "      loss = criterion(output, labels)\n",
        "      ep_val_loss += loss.item()\n",
        "\n",
        "      ep_val_acc += (torch.argmax(output, dim=1) == labels).sum().item()\n",
        "\n",
        "    ep_val_loss /= N\n",
        "    ep_val_acc /= N\n",
        "\n",
        "  return ep_val_loss, ep_val_acc"
      ],
      "metadata": {
        "id": "Maq1NA4EeqdO"
      },
      "execution_count": null,
      "outputs": []
    },
    {
      "cell_type": "code",
      "source": [
        "vocab_size = len(vocabulary)\n",
        "num_class = len(set(train_df_vi['label']))\n",
        "embed_dim = 256\n",
        "lr = 5\n",
        "\n",
        "criterion = nn.CrossEntropyLoss()\n",
        "model = TextClassificationModel(vocab_size=vocab_size, embed_dim=embed_dim, num_class=num_class).to(device)\n",
        "optimizer = torch.optim.SGD(model.parameters(),\n",
        "                            lr=lr)"
      ],
      "metadata": {
        "id": "Ux6gSvIs_OHx"
      },
      "execution_count": null,
      "outputs": []
    },
    {
      "cell_type": "code",
      "source": [
        "num_epochs = 50\n",
        "models = []\n",
        "train_losses = []\n",
        "train_acc = []\n",
        "val_losses = []\n",
        "val_acc = []\n",
        "for epoch in range(1, num_epochs+1):\n",
        "  s_time = time.time()\n",
        "  # train\n",
        "  ep_train_loss, ep_train_acc = train(model=model,\n",
        "                                      optimizer=optimizer,\n",
        "                                      criterion=criterion,\n",
        "                                      data_loader=train_loader)\n",
        "  train_losses.append(ep_train_loss)\n",
        "  train_acc.append(ep_train_acc)\n",
        "\n",
        "  # eval\n",
        "  ep_val_loss, ep_val_acc = evaluate(model=model,\n",
        "                                      criterion=criterion,\n",
        "                                      data_loader=val_loader)\n",
        "  val_losses.append(ep_val_loss)\n",
        "  val_acc.append(ep_val_acc)\n",
        "\n",
        "  e_time = time.time()\n",
        "\n",
        "  models.append(model)\n",
        "  # Log\n",
        "  print('-' * 50)\n",
        "  print(f'Epoch {epoch:>3d}/{num_epochs}:')\n",
        "  print(f'Time: {e_time-s_time:5.2f}s')\n",
        "  print(f'  Train Loss: {ep_train_loss:8.3f} | Train Accuracy: {ep_train_acc:8.3f}')\n",
        "  print(f'  Valid Loss: {ep_val_loss:8.3f} | Valid Accuracy: {ep_val_acc:8.3f}')\n",
        "  print('-' * 50)"
      ],
      "metadata": {
        "colab": {
          "base_uri": "https://localhost:8080/"
        },
        "id": "CWa7YSKnhNZI",
        "outputId": "6663cb30-c6bd-466d-948d-f15bb8bffb5c"
      },
      "execution_count": null,
      "outputs": [
        {
          "output_type": "stream",
          "name": "stdout",
          "text": [
            "--------------------------------------------------\n",
            "Epoch   1/50:\n",
            "Time:  4.27s\n",
            "  Train Loss:    0.003 | Train Accuracy:    0.806\n",
            "  Valid Loss:    0.003 | Valid Accuracy:    0.802\n",
            "--------------------------------------------------\n",
            "--------------------------------------------------\n",
            "Epoch   2/50:\n",
            "Time:  2.68s\n",
            "  Train Loss:    0.003 | Train Accuracy:    0.856\n",
            "  Valid Loss:    0.003 | Valid Accuracy:    0.858\n",
            "--------------------------------------------------\n",
            "--------------------------------------------------\n",
            "Epoch   3/50:\n",
            "Time:  2.95s\n",
            "  Train Loss:    0.003 | Train Accuracy:    0.869\n",
            "  Valid Loss:    0.003 | Valid Accuracy:    0.870\n",
            "--------------------------------------------------\n",
            "--------------------------------------------------\n",
            "Epoch   4/50:\n",
            "Time:  3.29s\n",
            "  Train Loss:    0.003 | Train Accuracy:    0.877\n",
            "  Valid Loss:    0.003 | Valid Accuracy:    0.871\n",
            "--------------------------------------------------\n",
            "--------------------------------------------------\n",
            "Epoch   5/50:\n",
            "Time:  2.71s\n",
            "  Train Loss:    0.002 | Train Accuracy:    0.882\n",
            "  Valid Loss:    0.003 | Valid Accuracy:    0.871\n",
            "--------------------------------------------------\n",
            "--------------------------------------------------\n",
            "Epoch   6/50:\n",
            "Time:  2.71s\n",
            "  Train Loss:    0.002 | Train Accuracy:    0.887\n",
            "  Valid Loss:    0.003 | Valid Accuracy:    0.874\n",
            "--------------------------------------------------\n",
            "--------------------------------------------------\n",
            "Epoch   7/50:\n",
            "Time:  2.69s\n",
            "  Train Loss:    0.002 | Train Accuracy:    0.888\n",
            "  Valid Loss:    0.003 | Valid Accuracy:    0.867\n",
            "--------------------------------------------------\n",
            "--------------------------------------------------\n",
            "Epoch   8/50:\n",
            "Time:  3.45s\n",
            "  Train Loss:    0.002 | Train Accuracy:    0.892\n",
            "  Valid Loss:    0.003 | Valid Accuracy:    0.876\n",
            "--------------------------------------------------\n",
            "--------------------------------------------------\n",
            "Epoch   9/50:\n",
            "Time:  2.73s\n",
            "  Train Loss:    0.002 | Train Accuracy:    0.895\n",
            "  Valid Loss:    0.003 | Valid Accuracy:    0.868\n",
            "--------------------------------------------------\n",
            "--------------------------------------------------\n",
            "Epoch  10/50:\n",
            "Time:  2.72s\n",
            "  Train Loss:    0.002 | Train Accuracy:    0.897\n",
            "  Valid Loss:    0.003 | Valid Accuracy:    0.867\n",
            "--------------------------------------------------\n",
            "--------------------------------------------------\n",
            "Epoch  11/50:\n",
            "Time:  2.70s\n",
            "  Train Loss:    0.002 | Train Accuracy:    0.897\n",
            "  Valid Loss:    0.003 | Valid Accuracy:    0.874\n",
            "--------------------------------------------------\n",
            "--------------------------------------------------\n",
            "Epoch  12/50:\n",
            "Time:  3.11s\n",
            "  Train Loss:    0.002 | Train Accuracy:    0.899\n",
            "  Valid Loss:    0.003 | Valid Accuracy:    0.870\n",
            "--------------------------------------------------\n",
            "--------------------------------------------------\n",
            "Epoch  13/50:\n",
            "Time:  3.06s\n",
            "  Train Loss:    0.002 | Train Accuracy:    0.900\n",
            "  Valid Loss:    0.003 | Valid Accuracy:    0.875\n",
            "--------------------------------------------------\n",
            "--------------------------------------------------\n",
            "Epoch  14/50:\n",
            "Time:  2.73s\n",
            "  Train Loss:    0.002 | Train Accuracy:    0.901\n",
            "  Valid Loss:    0.003 | Valid Accuracy:    0.867\n",
            "--------------------------------------------------\n",
            "--------------------------------------------------\n",
            "Epoch  15/50:\n",
            "Time:  2.70s\n",
            "  Train Loss:    0.002 | Train Accuracy:    0.901\n",
            "  Valid Loss:    0.003 | Valid Accuracy:    0.875\n",
            "--------------------------------------------------\n",
            "--------------------------------------------------\n",
            "Epoch  16/50:\n",
            "Time:  2.71s\n",
            "  Train Loss:    0.002 | Train Accuracy:    0.905\n",
            "  Valid Loss:    0.003 | Valid Accuracy:    0.857\n",
            "--------------------------------------------------\n",
            "--------------------------------------------------\n",
            "Epoch  17/50:\n",
            "Time:  3.39s\n",
            "  Train Loss:    0.002 | Train Accuracy:    0.903\n",
            "  Valid Loss:    0.003 | Valid Accuracy:    0.873\n",
            "--------------------------------------------------\n",
            "--------------------------------------------------\n",
            "Epoch  18/50:\n",
            "Time:  2.71s\n",
            "  Train Loss:    0.002 | Train Accuracy:    0.905\n",
            "  Valid Loss:    0.003 | Valid Accuracy:    0.870\n",
            "--------------------------------------------------\n",
            "--------------------------------------------------\n",
            "Epoch  19/50:\n",
            "Time:  2.73s\n",
            "  Train Loss:    0.002 | Train Accuracy:    0.904\n",
            "  Valid Loss:    0.003 | Valid Accuracy:    0.871\n",
            "--------------------------------------------------\n",
            "--------------------------------------------------\n",
            "Epoch  20/50:\n",
            "Time:  2.72s\n",
            "  Train Loss:    0.002 | Train Accuracy:    0.906\n",
            "  Valid Loss:    0.003 | Valid Accuracy:    0.871\n",
            "--------------------------------------------------\n",
            "--------------------------------------------------\n",
            "Epoch  21/50:\n",
            "Time:  3.40s\n",
            "  Train Loss:    0.002 | Train Accuracy:    0.908\n",
            "  Valid Loss:    0.003 | Valid Accuracy:    0.872\n",
            "--------------------------------------------------\n",
            "--------------------------------------------------\n",
            "Epoch  22/50:\n",
            "Time:  2.78s\n",
            "  Train Loss:    0.002 | Train Accuracy:    0.909\n",
            "  Valid Loss:    0.003 | Valid Accuracy:    0.871\n",
            "--------------------------------------------------\n",
            "--------------------------------------------------\n",
            "Epoch  23/50:\n",
            "Time:  2.65s\n",
            "  Train Loss:    0.002 | Train Accuracy:    0.910\n",
            "  Valid Loss:    0.003 | Valid Accuracy:    0.860\n",
            "--------------------------------------------------\n",
            "--------------------------------------------------\n",
            "Epoch  24/50:\n",
            "Time:  2.69s\n",
            "  Train Loss:    0.002 | Train Accuracy:    0.910\n",
            "  Valid Loss:    0.003 | Valid Accuracy:    0.871\n",
            "--------------------------------------------------\n",
            "--------------------------------------------------\n",
            "Epoch  25/50:\n",
            "Time:  2.90s\n",
            "  Train Loss:    0.002 | Train Accuracy:    0.910\n",
            "  Valid Loss:    0.003 | Valid Accuracy:    0.869\n",
            "--------------------------------------------------\n",
            "--------------------------------------------------\n",
            "Epoch  26/50:\n",
            "Time:  3.30s\n",
            "  Train Loss:    0.002 | Train Accuracy:    0.911\n",
            "  Valid Loss:    0.003 | Valid Accuracy:    0.872\n",
            "--------------------------------------------------\n",
            "--------------------------------------------------\n",
            "Epoch  27/50:\n",
            "Time:  2.67s\n",
            "  Train Loss:    0.002 | Train Accuracy:    0.911\n",
            "  Valid Loss:    0.003 | Valid Accuracy:    0.869\n",
            "--------------------------------------------------\n",
            "--------------------------------------------------\n",
            "Epoch  28/50:\n",
            "Time:  2.63s\n",
            "  Train Loss:    0.002 | Train Accuracy:    0.913\n",
            "  Valid Loss:    0.003 | Valid Accuracy:    0.869\n",
            "--------------------------------------------------\n",
            "--------------------------------------------------\n",
            "Epoch  29/50:\n",
            "Time:  2.67s\n",
            "  Train Loss:    0.002 | Train Accuracy:    0.913\n",
            "  Valid Loss:    0.003 | Valid Accuracy:    0.870\n",
            "--------------------------------------------------\n",
            "--------------------------------------------------\n",
            "Epoch  30/50:\n",
            "Time:  3.49s\n",
            "  Train Loss:    0.002 | Train Accuracy:    0.913\n",
            "  Valid Loss:    0.003 | Valid Accuracy:    0.869\n",
            "--------------------------------------------------\n",
            "--------------------------------------------------\n",
            "Epoch  31/50:\n",
            "Time:  2.72s\n",
            "  Train Loss:    0.002 | Train Accuracy:    0.915\n",
            "  Valid Loss:    0.003 | Valid Accuracy:    0.862\n",
            "--------------------------------------------------\n",
            "--------------------------------------------------\n",
            "Epoch  32/50:\n",
            "Time:  2.72s\n",
            "  Train Loss:    0.002 | Train Accuracy:    0.914\n",
            "  Valid Loss:    0.003 | Valid Accuracy:    0.859\n",
            "--------------------------------------------------\n",
            "--------------------------------------------------\n",
            "Epoch  33/50:\n",
            "Time:  2.72s\n",
            "  Train Loss:    0.002 | Train Accuracy:    0.915\n",
            "  Valid Loss:    0.003 | Valid Accuracy:    0.869\n",
            "--------------------------------------------------\n",
            "--------------------------------------------------\n",
            "Epoch  34/50:\n",
            "Time:  3.15s\n",
            "  Train Loss:    0.002 | Train Accuracy:    0.917\n",
            "  Valid Loss:    0.003 | Valid Accuracy:    0.858\n",
            "--------------------------------------------------\n",
            "--------------------------------------------------\n",
            "Epoch  35/50:\n",
            "Time:  3.10s\n",
            "  Train Loss:    0.002 | Train Accuracy:    0.916\n",
            "  Valid Loss:    0.003 | Valid Accuracy:    0.863\n",
            "--------------------------------------------------\n",
            "--------------------------------------------------\n",
            "Epoch  36/50:\n",
            "Time:  2.68s\n",
            "  Train Loss:    0.002 | Train Accuracy:    0.917\n",
            "  Valid Loss:    0.003 | Valid Accuracy:    0.870\n",
            "--------------------------------------------------\n",
            "--------------------------------------------------\n",
            "Epoch  37/50:\n",
            "Time:  2.72s\n",
            "  Train Loss:    0.002 | Train Accuracy:    0.918\n",
            "  Valid Loss:    0.003 | Valid Accuracy:    0.867\n",
            "--------------------------------------------------\n",
            "--------------------------------------------------\n",
            "Epoch  38/50:\n",
            "Time:  2.75s\n",
            "  Train Loss:    0.002 | Train Accuracy:    0.916\n",
            "  Valid Loss:    0.003 | Valid Accuracy:    0.852\n",
            "--------------------------------------------------\n",
            "--------------------------------------------------\n",
            "Epoch  39/50:\n",
            "Time:  3.41s\n",
            "  Train Loss:    0.002 | Train Accuracy:    0.919\n",
            "  Valid Loss:    0.003 | Valid Accuracy:    0.862\n",
            "--------------------------------------------------\n",
            "--------------------------------------------------\n",
            "Epoch  40/50:\n",
            "Time:  2.81s\n",
            "  Train Loss:    0.002 | Train Accuracy:    0.917\n",
            "  Valid Loss:    0.003 | Valid Accuracy:    0.852\n",
            "--------------------------------------------------\n",
            "--------------------------------------------------\n",
            "Epoch  41/50:\n",
            "Time:  2.72s\n",
            "  Train Loss:    0.002 | Train Accuracy:    0.920\n",
            "  Valid Loss:    0.003 | Valid Accuracy:    0.837\n",
            "--------------------------------------------------\n",
            "--------------------------------------------------\n",
            "Epoch  42/50:\n",
            "Time:  2.78s\n",
            "  Train Loss:    0.002 | Train Accuracy:    0.918\n",
            "  Valid Loss:    0.003 | Valid Accuracy:    0.862\n",
            "--------------------------------------------------\n",
            "--------------------------------------------------\n",
            "Epoch  43/50:\n",
            "Time:  3.36s\n",
            "  Train Loss:    0.002 | Train Accuracy:    0.919\n",
            "  Valid Loss:    0.003 | Valid Accuracy:    0.863\n",
            "--------------------------------------------------\n",
            "--------------------------------------------------\n",
            "Epoch  44/50:\n",
            "Time:  2.81s\n",
            "  Train Loss:    0.002 | Train Accuracy:    0.920\n",
            "  Valid Loss:    0.003 | Valid Accuracy:    0.853\n",
            "--------------------------------------------------\n",
            "--------------------------------------------------\n",
            "Epoch  45/50:\n",
            "Time:  2.63s\n",
            "  Train Loss:    0.002 | Train Accuracy:    0.920\n",
            "  Valid Loss:    0.003 | Valid Accuracy:    0.845\n",
            "--------------------------------------------------\n",
            "--------------------------------------------------\n",
            "Epoch  46/50:\n",
            "Time:  2.70s\n",
            "  Train Loss:    0.002 | Train Accuracy:    0.920\n",
            "  Valid Loss:    0.003 | Valid Accuracy:    0.852\n",
            "--------------------------------------------------\n",
            "--------------------------------------------------\n",
            "Epoch  47/50:\n",
            "Time:  2.85s\n",
            "  Train Loss:    0.002 | Train Accuracy:    0.921\n",
            "  Valid Loss:    0.003 | Valid Accuracy:    0.864\n",
            "--------------------------------------------------\n",
            "--------------------------------------------------\n",
            "Epoch  48/50:\n",
            "Time:  3.23s\n",
            "  Train Loss:    0.002 | Train Accuracy:    0.920\n",
            "  Valid Loss:    0.003 | Valid Accuracy:    0.847\n",
            "--------------------------------------------------\n",
            "--------------------------------------------------\n",
            "Epoch  49/50:\n",
            "Time:  2.61s\n",
            "  Train Loss:    0.002 | Train Accuracy:    0.921\n",
            "  Valid Loss:    0.003 | Valid Accuracy:    0.861\n",
            "--------------------------------------------------\n",
            "--------------------------------------------------\n",
            "Epoch  50/50:\n",
            "Time:  2.72s\n",
            "  Train Loss:    0.002 | Train Accuracy:    0.922\n",
            "  Valid Loss:    0.003 | Valid Accuracy:    0.859\n",
            "--------------------------------------------------\n"
          ]
        }
      ]
    },
    {
      "cell_type": "code",
      "source": [
        "import matplotlib.pyplot as plt\n",
        "\n",
        "fig, axes = plt.subplots(1, 2, figsize=(12,4))\n",
        "\n",
        "axes[0].plot(train_losses, label='Train')\n",
        "axes[0].plot(val_losses, color='orange', label='Valid')\n",
        "axes[0].legend()\n",
        "axes[0].set_xlabel('#epoch')\n",
        "axes[0].set_ylabel('Loss')\n",
        "axes[0].set_title('Loss')\n",
        "axes[0].set_ylim(0, 0.005)\n",
        "\n",
        "axes[1].plot(train_acc, label='Train')\n",
        "axes[1].plot(val_acc, color='orange', label='Valid')\n",
        "axes[1].legend()\n",
        "axes[1].set_xlabel('#epoch')\n",
        "axes[1].set_ylabel('Accuracy')\n",
        "axes[1].set_title('Accuracy')\n",
        "axes[1].set_ylim(0.8, 0.95)\n",
        "\n",
        "plt.show()"
      ],
      "metadata": {
        "id": "8SMaSH5Zh5Gz",
        "colab": {
          "base_uri": "https://localhost:8080/",
          "height": 410
        },
        "outputId": "5784975d-fc90-4e16-960a-ef1cb56a2206"
      },
      "execution_count": null,
      "outputs": [
        {
          "output_type": "display_data",
          "data": {
            "text/plain": [
              "<Figure size 1200x400 with 2 Axes>"
            ],
            "image/png": "[encoded data removed]"
          },
          "metadata": {}
        }
      ]
    },
    {
      "cell_type": "markdown",
      "source": [
        "# 5.Prediction"
      ],
      "metadata": {
        "id": "d1saUHdZU3xn"
      }
    },
    {
      "cell_type": "code",
      "source": [
        "# Choose model gives the highest accuracy score\n",
        "selected_idx = torch.argmax(torch.tensor(val_acc)).item()\n",
        "selected_model = models[selected_idx].to('cpu')"
      ],
      "metadata": {
        "id": "3tSZx5KEaPXC"
      },
      "execution_count": null,
      "outputs": []
    },
    {
      "cell_type": "code",
      "source": [
        "selected_model"
      ],
      "metadata": {
        "colab": {
          "base_uri": "https://localhost:8080/"
        },
        "id": "7_TwLAuMbut5",
        "outputId": "7da6e8dc-0d6c-4c04-ff17-ee808b7909c6"
      },
      "execution_count": null,
      "outputs": [
        {
          "output_type": "execute_result",
          "data": {
            "text/plain": [
              "TextClassificationModel(\n",
              "  (embedding): EmbeddingBag(10000, 256, mode='mean')\n",
              "  (linear): Linear(in_features=256, out_features=2, bias=True)\n",
              ")"
            ]
          },
          "metadata": {},
          "execution_count": 65
        }
      ]
    },
    {
      "cell_type": "code",
      "source": [
        "def predict(sentence):\n",
        "  with torch.no_grad():\n",
        "    encoded_sentence = torch.tensor(vocabulary(tokenizer(sentence)))\n",
        "    result = selected_model(encoded_sentence, torch.tensor([0]))\n",
        "    return torch.argmax(result).item()"
      ],
      "metadata": {
        "id": "j_Ebf3ldU800"
      },
      "execution_count": null,
      "outputs": []
    },
    {
      "cell_type": "code",
      "source": [
        "test_sen = test_df_vi['processed_sentence'][0]\n",
        "test_label = test_df_vi['label'][0]\n",
        "print('Sentence: \\n', test_sen)\n",
        "print(f'Groundtruth: {test_label}')\n",
        "print(f'Prediction:  {predict(test_sen)}')"
      ],
      "metadata": {
        "colab": {
          "base_uri": "https://localhost:8080/"
        },
        "id": "KDe5oIX0gMs-",
        "outputId": "f55a8dde-3557-43ce-e9d9-9081c28d5315"
      },
      "execution_count": null,
      "outputs": [
        {
          "output_type": "stream",
          "name": "stdout",
          "text": [
            "Sentence: \n",
            " nhàhàng này có view chắc đẹp nhất aeonmallbìnhdương rồi nhìn ra đạilộ kiểu cổtrang của nhật nữa thahồ check in haha đồăn nhiều qtqd thấy thương mấy cô bé phụcvụ luôn mà lức nào cũng cười hỏi mình có cần gì ko đôikhi còn nhớ cả nướcchấm mình thích dùng kèm với gì luôn best service nhàhàng luôn có những chuong trình k mãi hấpdẫn và hơi độc mà mình thấy giá buffet ở đây cókhi chỉ có kset chỉmỗitội mới quá nên ít ai ghé thử toàn đi mấy nhàhàng sang chảnh mà đồăn cũng bìnhthường service tồi hehe em này được list vàosổ rồi nhé\n",
            "Groundtruth: 1\n",
            "Prediction:  1\n"
          ]
        }
      ]
    },
    {
      "cell_type": "markdown",
      "source": [
        "Evaluation on Test set"
      ],
      "metadata": {
        "id": "eD86ofBidweK"
      }
    },
    {
      "cell_type": "code",
      "source": [
        "pred_ls, label_ls = [], []\n",
        "for idx, row in test_df_vi.iterrows():\n",
        "  sentence = row['processed_sentence']\n",
        "  label = row['label']\n",
        "  pred = predict(sentence)\n",
        "  pred_ls.append(pred)\n",
        "  label_ls.append(label)\n",
        "\n",
        "test_acc = (torch.tensor(pred_ls) == torch.tensor(label_ls)).sum().item() / len(label_ls)"
      ],
      "metadata": {
        "id": "jv7zQJp1dtsj"
      },
      "execution_count": null,
      "outputs": []
    },
    {
      "cell_type": "code",
      "source": [
        "print('Evaluation:')\n",
        "print(f'  - Training set:     {train_acc[selected_idx]*100:.2f}%')\n",
        "print(f'  - Validation set:   {val_acc[selected_idx]*100:.2f}%')\n",
        "print(f'  - Test set:         {test_acc*100:.2f}%')"
      ],
      "metadata": {
        "colab": {
          "base_uri": "https://localhost:8080/"
        },
        "id": "vKyoOeQwe7t7",
        "outputId": "b5756a4d-c2d0-45cb-f7c1-7cb12ebef8f4"
      },
      "execution_count": null,
      "outputs": [
        {
          "output_type": "stream",
          "name": "stdout",
          "text": [
            "Evaluation:\n",
            "  - Training set:     89.19%\n",
            "  - Validation set:   87.61%\n",
            "  - Test set:         86.47%\n"
          ]
        }
      ]
    },
    {
      "cell_type": "markdown",
      "source": [
        "# 6.Other vector representation techniques"
      ],
      "metadata": {
        "id": "A_EknREWiaTi"
      }
    },
    {
      "cell_type": "markdown",
      "source": [
        "## 6.1. BoW"
      ],
      "metadata": {
        "id": "joytVY2bi08c"
      }
    },
    {
      "cell_type": "code",
      "source": [
        "from sklearn.feature_extraction.text import CountVectorizer\n",
        "from sklearn.linear_model import LogisticRegression\n",
        "import numpy as np"
      ],
      "metadata": {
        "id": "ccLMF8xJzz8E"
      },
      "execution_count": null,
      "outputs": []
    },
    {
      "cell_type": "code",
      "source": [
        "train_labels = np.array(train_df_vi['label'])\n",
        "val_labels = np.array(val_df_vi['label'])\n",
        "test_labels = np.array(test_df_vi['label'])\n",
        "\n",
        "vocab_size = 10000\n",
        "vectorizer = CountVectorizer(max_features=vocab_size)\n",
        "\n",
        "train_sequence = vectorizer.fit_transform(train_df_vi['processed_sentence'])\n",
        "val_sequence = vectorizer.transform(val_df_vi['processed_sentence'])\n",
        "test_sequence = vectorizer.transform(test_df_vi['processed_sentence'])"
      ],
      "metadata": {
        "id": "NQU0skLD2AgD"
      },
      "execution_count": null,
      "outputs": []
    },
    {
      "cell_type": "code",
      "source": [
        "bow_cls = LogisticRegression()\n",
        "bow_cls.fit(train_sequence, train_labels)\n",
        "train_acc_bow = bow_cls.score(train_sequence, train_labels)\n",
        "val_acc_bow = bow_cls.score(val_sequence, val_labels)\n",
        "test_acc_bow = bow_cls.score(test_sequence, test_labels)"
      ],
      "metadata": {
        "id": "YWw6Pi2j4ejd"
      },
      "execution_count": null,
      "outputs": []
    },
    {
      "cell_type": "code",
      "source": [
        "print('BoW Evaluation:')\n",
        "print(f'  - Training set:       {train_acc_bow*100:.2f}%')\n",
        "print(f'  - Validation set:     {val_acc_bow*100:.2f}%')\n",
        "print(f'  - Test set:           {test_acc_bow*100:.2f}%')"
      ],
      "metadata": {
        "colab": {
          "base_uri": "https://localhost:8080/"
        },
        "id": "2AQ6lK1u6hpK",
        "outputId": "f9badec7-9de8-4c99-9fed-7e738eb06ea6"
      },
      "execution_count": null,
      "outputs": [
        {
          "output_type": "stream",
          "name": "stdout",
          "text": [
            "BoW Evaluation:\n",
            "  - Training set:       94.24%\n",
            "  - Validation set:     87.36%\n",
            "  - Test set:           87.94%\n"
          ]
        }
      ]
    },
    {
      "cell_type": "markdown",
      "source": [
        "## 6.2. TF-IDF"
      ],
      "metadata": {
        "id": "mx8phbd46-w8"
      }
    },
    {
      "cell_type": "code",
      "source": [
        "from sklearn.feature_extraction.text import TfidfVectorizer\n",
        "\n",
        "tfidf_vectorizer = TfidfVectorizer(max_features=vocab_size)\n",
        "train_tfidf = tfidf_vectorizer.fit_transform(train_df_vi['processed_sentence'])\n",
        "val_tfidf = tfidf_vectorizer.transform(val_df_vi['processed_sentence'])\n",
        "test_tfidf = tfidf_vectorizer.transform(test_df_vi['processed_sentence'])\n",
        "\n",
        "tfidf_cls = LogisticRegression()\n",
        "tfidf_cls.fit(train_tfidf, train_labels)\n",
        "\n",
        "train_acc_tfidf = tfidf_cls.score(train_tfidf, train_labels)\n",
        "val_acc_tfidf = tfidf_cls.score(val_tfidf, val_labels)\n",
        "test_acc_tfidf = tfidf_cls.score(test_tfidf, test_labels)"
      ],
      "metadata": {
        "id": "qcfB3S9Q7DCW"
      },
      "execution_count": null,
      "outputs": []
    },
    {
      "cell_type": "code",
      "source": [
        "print('TF-IDF Evaluation:')\n",
        "print(f'  - Training set:       {train_acc_tfidf*100:.2f}%')\n",
        "print(f'  - Validation set:     {val_acc_tfidf*100:.2f}%')\n",
        "print(f'  - Test set:           {test_acc_tfidf*100:.2f}%')"
      ],
      "metadata": {
        "colab": {
          "base_uri": "https://localhost:8080/"
        },
        "id": "kQoeGoAy8FWr",
        "outputId": "05a7214a-e9dc-4fb0-8dc3-3894939b73b1"
      },
      "execution_count": null,
      "outputs": [
        {
          "output_type": "stream",
          "name": "stdout",
          "text": [
            "TF-IDF Evaluation:\n",
            "  - Training set:       91.05%\n",
            "  - Validation set:     88.54%\n",
            "  - Test set:           88.74%\n"
          ]
        }
      ]
    },
    {
      "cell_type": "markdown",
      "source": [
        "## 6.3. Summary"
      ],
      "metadata": {
        "id": "dtDI-xz39lPi"
      }
    },
    {
      "cell_type": "code",
      "source": [
        "import pandas as pd\n",
        "eval_summary = {'name': ['MLP with EmbeddingBag','BoW','TF-IDF'],\n",
        "                'train_score': [train_acc[selected_idx]*100, train_acc_bow*100, train_acc_tfidf*100],\n",
        "                'validation_score': [val_acc[selected_idx]*100, val_acc_bow*100, val_acc_tfidf*100],\n",
        "                'test_score': [test_acc*100, test_acc_bow*100, test_acc_tfidf*100]}\n",
        "\n",
        "eval_summary = pd.DataFrame(eval_summary)\n",
        "eval_summary"
      ],
      "metadata": {
        "colab": {
          "base_uri": "https://localhost:8080/",
          "height": 143
        },
        "id": "9EP5umOi9nr7",
        "outputId": "b67a20f2-3218-403a-8b73-5ab4e6755d4b"
      },
      "execution_count": null,
      "outputs": [
        {
          "output_type": "execute_result",
          "data": {
            "text/plain": [
              "                    name  train_score  validation_score  test_score\n",
              "0  MLP with EmbeddingBag    89.188189         87.612136   86.471774\n",
              "1                    BoW    94.239306         87.360145   87.943548\n",
              "2                 TF-IDF    91.054614         88.539462   88.739919"
            ],
            "text/html": [
              "\n",
              "  <div id=\"df-b8212a28-85b4-43b3-99a0-076094b3b595\" class=\"colab-df-container\">\n",
              "    <div>\n",
              "<style scoped>\n",
              "    .dataframe tbody tr th:only-of-type {\n",
              "        vertical-align: middle;\n",
              "    }\n",
              "\n",
              "    .dataframe tbody tr th {\n",
              "        vertical-align: top;\n",
              "    }\n",
              "\n",
              "    .dataframe thead th {\n",
              "        text-align: right;\n",
              "    }\n",
              "</style>\n",
              "<table border=\"1\" class=\"dataframe\">\n",
              "  <thead>\n",
              "    <tr style=\"text-align: right;\">\n",
              "      <th></th>\n",
              "      <th>name</th>\n",
              "      <th>train_score</th>\n",
              "      <th>validation_score</th>\n",
              "      <th>test_score</th>\n",
              "    </tr>\n",
              "  </thead>\n",
              "  <tbody>\n",
              "    <tr>\n",
              "      <th>0</th>\n",
              "      <td>MLP with EmbeddingBag</td>\n",
              "      <td>89.188189</td>\n",
              "      <td>87.612136</td>\n",
              "      <td>86.471774</td>\n",
              "    </tr>\n",
              "    <tr>\n",
              "      <th>1</th>\n",
              "      <td>BoW</td>\n",
              "      <td>94.239306</td>\n",
              "      <td>87.360145</td>\n",
              "      <td>87.943548</td>\n",
              "    </tr>\n",
              "    <tr>\n",
              "      <th>2</th>\n",
              "      <td>TF-IDF</td>\n",
              "      <td>91.054614</td>\n",
              "      <td>88.539462</td>\n",
              "      <td>88.739919</td>\n",
              "    </tr>\n",
              "  </tbody>\n",
              "</table>\n",
              "</div>\n",
              "    <div class=\"colab-df-buttons\">\n",
              "\n",
              "  <div class=\"colab-df-container\">\n",
              "    <button class=\"colab-df-convert\" onclick=\"convertToInteractive('df-b8212a28-85b4-43b3-99a0-076094b3b595')\"\n",
              "            title=\"Convert this dataframe to an interactive table.\"\n",
              "            style=\"display:none;\">\n",
              "\n",
              "  <svg xmlns=\"http://www.w3.org/2000/svg\" height=\"24px\" viewBox=\"0 -960 960 960\">\n",
              "    <path d=\"M120-120v-720h720v720H120Zm60-500h600v-160H180v160Zm220 220h160v-160H400v160Zm0 220h160v-160H400v160ZM180-400h160v-160H180v160Zm440 0h160v-160H620v160ZM180-180h160v-160H180v160Zm440 0h160v-160H620v160Z\"/>\n",
              "  </svg>\n",
              "    </button>\n",
              "\n",
              "  <style>\n",
              "    .colab-df-container {\n",
              "      display:flex;\n",
              "      gap: 12px;\n",
              "    }\n",
              "\n",
              "    .colab-df-convert {\n",
              "      background-color: #E8F0FE;\n",
              "      border: none;\n",
              "      border-radius: 50%;\n",
              "      cursor: pointer;\n",
              "      display: none;\n",
              "      fill: #1967D2;\n",
              "      height: 32px;\n",
              "      padding: 0 0 0 0;\n",
              "      width: 32px;\n",
              "    }\n",
              "\n",
              "    .colab-df-convert:hover {\n",
              "      background-color: #E2EBFA;\n",
              "      box-shadow: 0px 1px 2px rgba(60, 64, 67, 0.3), 0px 1px 3px 1px rgba(60, 64, 67, 0.15);\n",
              "      fill: #174EA6;\n",
              "    }\n",
              "\n",
              "    .colab-df-buttons div {\n",
              "      margin-bottom: 4px;\n",
              "    }\n",
              "\n",
              "    [theme=dark] .colab-df-convert {\n",
              "      background-color: #3B4455;\n",
              "      fill: #D2E3FC;\n",
              "    }\n",
              "\n",
              "    [theme=dark] .colab-df-convert:hover {\n",
              "      background-color: #434B5C;\n",
              "      box-shadow: 0px 1px 3px 1px rgba(0, 0, 0, 0.15);\n",
              "      filter: drop-shadow(0px 1px 2px rgba(0, 0, 0, 0.3));\n",
              "      fill: #FFFFFF;\n",
              "    }\n",
              "  </style>\n",
              "\n",
              "    <script>\n",
              "      const buttonEl =\n",
              "        document.querySelector('#df-b8212a28-85b4-43b3-99a0-076094b3b595 button.colab-df-convert');\n",
              "      buttonEl.style.display =\n",
              "        google.colab.kernel.accessAllowed ? 'block' : 'none';\n",
              "\n",
              "      async function convertToInteractive(key) {\n",
              "        const element = document.querySelector('#df-b8212a28-85b4-43b3-99a0-076094b3b595');\n",
              "        const dataTable =\n",
              "          await google.colab.kernel.invokeFunction('convertToInteractive',\n",
              "                                                    [key], {});\n",
              "        if (!dataTable) return;\n",
              "\n",
              "        const docLinkHtml = 'Like what you see? Visit the ' +\n",
              "          '<a target=\"_blank\" href=https://colab.research.google.com/notebooks/data_table.ipynb>data table notebook</a>'\n",
              "          + ' to learn more about interactive tables.';\n",
              "        element.innerHTML = '';\n",
              "        dataTable['output_type'] = 'display_data';\n",
              "        await google.colab.output.renderOutput(dataTable, element);\n",
              "        const docLink = document.createElement('div');\n",
              "        docLink.innerHTML = docLinkHtml;\n",
              "        element.appendChild(docLink);\n",
              "      }\n",
              "    </script>\n",
              "  </div>\n",
              "\n",
              "\n",
              "<div id=\"df-0a8c83fc-fac0-4bd5-bef6-9851e08d51c7\">\n",
              "  <button class=\"colab-df-quickchart\" onclick=\"quickchart('df-0a8c83fc-fac0-4bd5-bef6-9851e08d51c7')\"\n",
              "            title=\"Suggest charts.\"\n",
              "            style=\"display:none;\">\n",
              "\n",
              "<svg xmlns=\"http://www.w3.org/2000/svg\" height=\"24px\"viewBox=\"0 0 24 24\"\n",
              "     width=\"24px\">\n",
              "    <g>\n",
              "        <path d=\"M19 3H5c-1.1 0-2 .9-2 2v14c0 1.1.9 2 2 2h14c1.1 0 2-.9 2-2V5c0-1.1-.9-2-2-2zM9 17H7v-7h2v7zm4 0h-2V7h2v10zm4 0h-2v-4h2v4z\"/>\n",
              "    </g>\n",
              "</svg>\n",
              "  </button>\n",
              "\n",
              "<style>\n",
              "  .colab-df-quickchart {\n",
              "      --bg-color: #E8F0FE;\n",
              "      --fill-color: #1967D2;\n",
              "      --hover-bg-color: #E2EBFA;\n",
              "      --hover-fill-color: #174EA6;\n",
              "      --disabled-fill-color: #AAA;\n",
              "      --disabled-bg-color: #DDD;\n",
              "  }\n",
              "\n",
              "  [theme=dark] .colab-df-quickchart {\n",
              "      --bg-color: #3B4455;\n",
              "      --fill-color: #D2E3FC;\n",
              "      --hover-bg-color: #434B5C;\n",
              "      --hover-fill-color: #FFFFFF;\n",
              "      --disabled-bg-color: #3B4455;\n",
              "      --disabled-fill-color: #666;\n",
              "  }\n",
              "\n",
              "  .colab-df-quickchart {\n",
              "    background-color: var(--bg-color);\n",
              "    border: none;\n",
              "    border-radius: 50%;\n",
              "    cursor: pointer;\n",
              "    display: none;\n",
              "    fill: var(--fill-color);\n",
              "    height: 32px;\n",
              "    padding: 0;\n",
              "    width: 32px;\n",
              "  }\n",
              "\n",
              "  .colab-df-quickchart:hover {\n",
              "    background-color: var(--hover-bg-color);\n",
              "    box-shadow: 0 1px 2px rgba(60, 64, 67, 0.3), 0 1px 3px 1px rgba(60, 64, 67, 0.15);\n",
              "    fill: var(--button-hover-fill-color);\n",
              "  }\n",
              "\n",
              "  .colab-df-quickchart-complete:disabled,\n",
              "  .colab-df-quickchart-complete:disabled:hover {\n",
              "    background-color: var(--disabled-bg-color);\n",
              "    fill: var(--disabled-fill-color);\n",
              "    box-shadow: none;\n",
              "  }\n",
              "\n",
              "  .colab-df-spinner {\n",
              "    border: 2px solid var(--fill-color);\n",
              "    border-color: transparent;\n",
              "    border-bottom-color: var(--fill-color);\n",
              "    animation:\n",
              "      spin 1s steps(1) infinite;\n",
              "  }\n",
              "\n",
              "  @keyframes spin {\n",
              "    0% {\n",
              "      border-color: transparent;\n",
              "      border-bottom-color: var(--fill-color);\n",
              "      border-left-color: var(--fill-color);\n",
              "    }\n",
              "    20% {\n",
              "      border-color: transparent;\n",
              "      border-left-color: var(--fill-color);\n",
              "      border-top-color: var(--fill-color);\n",
              "    }\n",
              "    30% {\n",
              "      border-color: transparent;\n",
              "      border-left-color: var(--fill-color);\n",
              "      border-top-color: var(--fill-color);\n",
              "      border-right-color: var(--fill-color);\n",
              "    }\n",
              "    40% {\n",
              "      border-color: transparent;\n",
              "      border-right-color: var(--fill-color);\n",
              "      border-top-color: var(--fill-color);\n",
              "    }\n",
              "    60% {\n",
              "      border-color: transparent;\n",
              "      border-right-color: var(--fill-color);\n",
              "    }\n",
              "    80% {\n",
              "      border-color: transparent;\n",
              "      border-right-color: var(--fill-color);\n",
              "      border-bottom-color: var(--fill-color);\n",
              "    }\n",
              "    90% {\n",
              "      border-color: transparent;\n",
              "      border-bottom-color: var(--fill-color);\n",
              "    }\n",
              "  }\n",
              "</style>\n",
              "\n",
              "  <script>\n",
              "    async function quickchart(key) {\n",
              "      const quickchartButtonEl =\n",
              "        document.querySelector('#' + key + ' button');\n",
              "      quickchartButtonEl.disabled = true;  // To prevent multiple clicks.\n",
              "      quickchartButtonEl.classList.add('colab-df-spinner');\n",
              "      try {\n",
              "        const charts = await google.colab.kernel.invokeFunction(\n",
              "            'suggestCharts', [key], {});\n",
              "      } catch (error) {\n",
              "        console.error('Error during call to suggestCharts:', error);\n",
              "      }\n",
              "      quickchartButtonEl.classList.remove('colab-df-spinner');\n",
              "      quickchartButtonEl.classList.add('colab-df-quickchart-complete');\n",
              "    }\n",
              "    (() => {\n",
              "      let quickchartButtonEl =\n",
              "        document.querySelector('#df-0a8c83fc-fac0-4bd5-bef6-9851e08d51c7 button');\n",
              "      quickchartButtonEl.style.display =\n",
              "        google.colab.kernel.accessAllowed ? 'block' : 'none';\n",
              "    })();\n",
              "  </script>\n",
              "</div>\n",
              "    </div>\n",
              "  </div>\n"
            ]
          },
          "metadata": {},
          "execution_count": 74
        }
      ]
    }
  ]
}